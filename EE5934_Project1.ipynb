{
 "cells": [
  {
   "cell_type": "markdown",
   "metadata": {
    "id": "y2osEUslUGkv"
   },
   "source": [
    "# EE5934 Deep Learning Project 1\n",
    "\n",
    "In this project, you are going to explore Deep Learning and Neural Networks by completing the following three tasks:\n",
    "\n",
    "* Task 1. Network Exploration (30%)\n",
    "* Task 2. Model Interpretation (30%)\n",
    "* Task 3. Adversarial Attack (40%)\n",
    "\n",
    "Before doing the project, please read the instructions carefully (failure to do so will be penalized):\n",
    "\n",
    "1. Implement your codes **within** \"TODO\" and \"END OF YOUR CODE\", do **NOT** modify any codes outside the answer area;\n",
    "2. Make sure your codes **clean**, **easily readable** (add meaningful comments if needed), and **runnable**;\n",
    "3. Write your answers in the given markdown cells, keep your answers clear and concise;\n",
    "4. Do submit your project to \"Files/Project 1/Submissions\" on [LumiNUS](https://luminus.nus.edu.sg/) before the deadline: **5:59 pm (SGT), 6 March, 2022**;\n",
    "5. This is an individual project, do **NOT** share your solutions with others, we have zero tolerance for cheating.\n",
    "\n",
    "If you have any questions regarding this project, please feel free to contact Wu Zhangjie (zhangjiewu@u.nus.edu). "
   ]
  },
  {
   "cell_type": "markdown",
   "metadata": {
    "id": "XyJICDR5tkuj"
   },
   "source": [
    "## Preparation"
   ]
  },
  {
   "cell_type": "markdown",
   "metadata": {},
   "source": [
    "### Loading packages\n",
    "\n",
    "Please install the packages listed below if you haven't done so. To avoid unnecessary trouble while reproducing your code, please install the required [PyTorch](https://pytorch.org/) version."
   ]
  },
  {
   "cell_type": "code",
   "execution_count": 1,
   "metadata": {
    "colab": {
     "base_uri": "https://localhost:8080/"
    },
    "executionInfo": {
     "elapsed": 649,
     "status": "ok",
     "timestamp": 1643114735692,
     "user": {
      "displayName": "Zhangjie Wu",
      "photoUrl": "https://lh3.googleusercontent.com/a/default-user=s64",
      "userId": "01242795707158007374"
     },
     "user_tz": -480
    },
    "id": "LNFcTvFWg1L1",
    "outputId": "f333d8fd-7b47-4870-d7ee-e3a4a0df614b"
   },
   "outputs": [],
   "source": [
    "import os\n",
    "import time\n",
    "import copy\n",
    "import numpy as np\n",
    "import matplotlib.pyplot as plt\n",
    "\n",
    "import matplotlib.cm as mpl_color_map\n",
    "from PIL import Image\n",
    "from random import randint\n",
    "\n",
    "import torch\n",
    "import torch.nn.functional as F\n",
    "import torch.optim as optim\n",
    "import torchvision\n",
    "\n",
    "assert torch.__version__ == '1.9.0', 'Please reinstall pytorch to 1.9.0.'\n",
    "assert torchvision.__version__ == '0.10.0', 'Please reinstall torchvision to 0.10.0.'"
   ]
  },
  {
   "cell_type": "markdown",
   "metadata": {
    "id": "Owj6jKvWraFJ"
   },
   "source": [
    "### Checking the Running Device\n",
    "\n",
    "It is recommended to run this notebook on GPUs since that would be a much faster way to train and evaluate the model. If you have difficulties accessing GPUs with your machine, you can choose to use the free GPUs provided by [Google Colab](https://colab.research.google.com/)."
   ]
  },
  {
   "cell_type": "code",
   "execution_count": 2,
   "metadata": {
    "colab": {
     "base_uri": "https://localhost:8080/"
    },
    "executionInfo": {
     "elapsed": 4,
     "status": "ok",
     "timestamp": 1643112643785,
     "user": {
      "displayName": "Zhangjie Wu",
      "photoUrl": "https://lh3.googleusercontent.com/a/default-user=s64",
      "userId": "01242795707158007374"
     },
     "user_tz": -480
    },
    "id": "CLovzR7Lk49o",
    "outputId": "198b970c-6f05-4926-ec38-b8972ede8a87"
   },
   "outputs": [
    {
     "name": "stdout",
     "output_type": "stream",
     "text": [
      "cuda:0\n"
     ]
    }
   ],
   "source": [
    "if torch.cuda.is_available():\n",
    "  device = 'cuda:0'\n",
    "else:\n",
    "  device = 'cpu'\n",
    "print(device)"
   ]
  },
  {
   "cell_type": "markdown",
   "metadata": {
    "id": "Fb12tK49rDia"
   },
   "source": [
    "### Getting the CIFAR-10 Dataset"
   ]
  },
  {
   "cell_type": "code",
   "execution_count": 3,
   "metadata": {
    "colab": {
     "base_uri": "https://localhost:8080/"
    },
    "executionInfo": {
     "elapsed": 11176,
     "status": "ok",
     "timestamp": 1643112658708,
     "user": {
      "displayName": "Zhangjie Wu",
      "photoUrl": "https://lh3.googleusercontent.com/a/default-user=s64",
      "userId": "01242795707158007374"
     },
     "user_tz": -480
    },
    "id": "EIT2XbCfp2iv",
    "outputId": "0b5b2f01-0971-411a-c16f-34f04d0815ca"
   },
   "outputs": [
    {
     "name": "stdout",
     "output_type": "stream",
     "text": [
      "Files already downloaded and verified\n",
      "Files already downloaded and verified\n"
     ]
    }
   ],
   "source": [
    "CIFAR_CLASSES = ['Airplane', 'Automobile', 'Bird', 'Cat', 'Deer', 'Dog', 'Frog', 'Horse', 'Ship', 'Truck']\n",
    "CIFAR_MEAN, CIFAR_STD = np.array([0.4914, 0.4822, 0.4465]), np.array([0.247, 0.243, 0.261])\n",
    "\n",
    "# Convert image to pytroch tensor and normalize\n",
    "transform = torchvision.transforms.Compose([\n",
    "    torchvision.transforms.ToTensor(),\n",
    "    torchvision.transforms.Normalize(mean=CIFAR_MEAN.tolist(), std=CIFAR_STD.tolist())\n",
    "])\n",
    "\n",
    "# Inverse operation to regain original image\n",
    "inverse_transform = torchvision.transforms.Compose([ \n",
    "    torchvision.transforms.Normalize(mean=[0, 0, 0], std=(1 / CIFAR_STD).tolist()),\n",
    "    torchvision.transforms.Normalize(mean=(-CIFAR_MEAN).tolist(), std=[1, 1, 1]),\n",
    "    torchvision.transforms.ToPILImage()\n",
    "])\n",
    "\n",
    "# Load dataset\n",
    "train_set = torchvision.datasets.CIFAR10(root=\"data\", train=True, download=True, transform=transform)\n",
    "train_size = len(train_set)\n",
    "test_set = torchvision.datasets.CIFAR10(root=\"data\", train=False, download=True, transform=transform)\n",
    "test_size = len(test_set)"
   ]
  },
  {
   "cell_type": "markdown",
   "metadata": {},
   "source": [
    "### Helper Fuctions"
   ]
  },
  {
   "cell_type": "code",
   "execution_count": 4,
   "metadata": {},
   "outputs": [],
   "source": [
    "def show_prob_cifar(image, label, p):\n",
    "    \"\"\"\n",
    "        Show image and prediction probability for CIFAR-10 dataset.\n",
    "    Args:\n",
    "    Inputs\n",
    "        image (Tensor): Input image\n",
    "        label (int): The ground truth label of input image\n",
    "        p (Tensor): Class probability of input image\n",
    "    \n",
    "    \"\"\"\n",
    "\n",
    "    ft = 10\n",
    "    width = 0.9\n",
    "    col = 'blue'\n",
    "\n",
    "    p=p.cpu().data.squeeze().numpy()\n",
    "    y_pos = np.arange(len(p))\n",
    "    fig = plt.figure(figsize=(5, 5))\n",
    "\n",
    "    # Plot image\n",
    "    ax1 = plt.subplot(2, 1, 1)\n",
    "    ax1.imshow(image)\n",
    "    ax1.set_axis_off()\n",
    "    ax1.set_title('Ground Truth: ' + CIFAR_CLASSES[label])\n",
    "\n",
    "    # Plot probability\n",
    "    ax2 = plt.subplot(2, 1, 2)\n",
    "    ax2.barh(y_pos, p*0.1, width , align='center', color=col)\n",
    "    ax2.set_yticks(y_pos)\n",
    "    ax2.set_yticklabels(CIFAR_CLASSES, fontsize=ft)\n",
    "    ax2.invert_yaxis()  \n",
    "    ax2.set_xticklabels([])\n",
    "    ax2.set_xticks([])\n",
    "    ax2.spines['right'].set_visible(False)\n",
    "    ax2.spines['top'].set_visible(False)\n",
    "    ax2.spines['bottom'].set_visible(False)\n",
    "    ax2.spines['left'].set_linewidth(4)\n",
    "    for i in range(len(p)):\n",
    "        str_nb=\"{0:.2f}\".format(p[i])\n",
    "        ax2.text(p[i]*0.1 + 0.001, y_pos[i] ,str_nb ,\n",
    "                 horizontalalignment='left', verticalalignment='center',\n",
    "                 transform=ax2.transData, color= col,fontsize=ft)\n",
    "\n",
    "    plt.show()\n",
    "\n",
    "\n",
    "def apply_colormap_on_image(org_im, activation, colormap_name):\n",
    "    \"\"\"\n",
    "        Apply heatmap on image\n",
    "    Args:\n",
    "        org_img (PIL img): Original image\n",
    "        activation_map (numpy arr): Activation map (grayscale) 0-255\n",
    "        colormap_name (str): Name of the colormap\n",
    "    \"\"\"\n",
    "    # Get colormap\n",
    "    color_map = mpl_color_map.get_cmap(colormap_name)\n",
    "    no_trans_heatmap = color_map(activation)\n",
    "    # Change alpha channel in colormap to make sure original image is displayed\n",
    "    heatmap = copy.copy(no_trans_heatmap)\n",
    "    heatmap[:, :, 3] = 0.4\n",
    "    heatmap = Image.fromarray((heatmap*255).astype(np.uint8))\n",
    "    no_trans_heatmap = Image.fromarray((no_trans_heatmap*255).astype(np.uint8))\n",
    "\n",
    "    # Apply heatmap on iamge\n",
    "    heatmap_on_image = Image.new(\"RGBA\", org_im.size)\n",
    "    heatmap_on_image = Image.alpha_composite(heatmap_on_image, org_im.convert('RGBA'))\n",
    "    heatmap_on_image = Image.alpha_composite(heatmap_on_image, heatmap)\n",
    "    return no_trans_heatmap, heatmap_on_image"
   ]
  },
  {
   "cell_type": "markdown",
   "metadata": {
    "id": "UzXv8qM1rPlc"
   },
   "source": [
    "## Task 1: Network Exploration\n",
    "\n",
    "In this task, you are expected to build a convolutional neural network (CNN) for solving a problem of image recognition and explore strategies that could further strengthen its performance.  "
   ]
  },
  {
   "cell_type": "markdown",
   "metadata": {},
   "source": [
    "### Defining the Model\n",
    "\n",
    "In deep learning, a Convolutional Neural Network (CNN, or ConvNet) is one of the most famous deep learning models that have been widely used in the field of computer vision. A simple CNN often consists of three main types of layers:\n",
    "- **Convolutional Layer**, the core building block that takes over the most of computational burdens, contains a set of filters (or kernels) with learnable parameters while training. It receives as input an image (or a feature map), and computes its output volume by stacking the activation maps convolved by every filter along the depth dimension. \n",
    "- **Pooling Layer** is commonly inserted in-between successive Conv layers in a CNN architecture. Its function is to progressively reduce the spatial size of the representation to reduce the amount of parameters and computation in the network, and hence to also control overfitting. \n",
    "- **Fully Connected Layer** have fully connections to all activations in the previous layer and is usually placed before the output layer to form the last few layers of a CNN Architecture.\n",
    "\n",
    "If you are not familiar with CNN architectures, [this blog](https://towardsdatascience.com/a-comprehensive-guide-to-convolutional-neural-networks-the-eli5-way-3bd2b1164a53) may help you get a better understanding of the mechanism of each layer."
   ]
  },
  {
   "cell_type": "markdown",
   "metadata": {},
   "source": [
    "Define a naive CNN stacked by the layers mentioned above. While doing so, please follow the TODOs provided below. (Refer to [torch.nn](https://pytorch.org/docs/stable/nn.html) for detailed instructions of building basic blocks with PyTorch.)"
   ]
  },
  {
   "cell_type": "code",
   "execution_count": 5,
   "metadata": {
    "executionInfo": {
     "elapsed": 437,
     "status": "ok",
     "timestamp": 1643112661747,
     "user": {
      "displayName": "Zhangjie Wu",
      "photoUrl": "https://lh3.googleusercontent.com/a/default-user=s64",
      "userId": "01242795707158007374"
     },
     "user_tz": -480
    },
    "id": "LVv2SxOihl6K"
   },
   "outputs": [
    {
     "name": "stdout",
     "output_type": "stream",
     "text": [
      "ConvNet(\n",
      "  (layel_1): Conv2d(3, 64, kernel_size=(3, 3), stride=(1, 1), padding=(1, 1))\n",
      "  (layel_1_pool): MaxPool2d(kernel_size=2, stride=2, padding=0, dilation=1, ceil_mode=False)\n",
      "  (layel_2): Conv2d(64, 128, kernel_size=(3, 3), stride=(1, 1), padding=(1, 1))\n",
      "  (layel_2_pool): MaxPool2d(kernel_size=2, stride=2, padding=0, dilation=1, ceil_mode=False)\n",
      "  (layel_3): Conv2d(128, 256, kernel_size=(3, 3), stride=(1, 1), padding=(1, 1))\n",
      "  (layel_3_pool): MaxPool2d(kernel_size=2, stride=2, padding=0, dilation=1, ceil_mode=False)\n",
      "  (layel_4): Conv2d(256, 512, kernel_size=(3, 3), stride=(1, 1), padding=(1, 1))\n",
      "  (layel_4_pool): MaxPool2d(kernel_size=2, stride=2, padding=0, dilation=1, ceil_mode=False)\n",
      "  (layel_one): Flatten(start_dim=1, end_dim=-1)\n",
      "  (layel_two): Linear(in_features=2048, out_features=4096, bias=True)\n",
      "  (layel_three): Linear(in_features=4096, out_features=4096, bias=True)\n",
      "  (layel_four): Linear(in_features=4096, out_features=10, bias=True)\n",
      ")\n"
     ]
    }
   ],
   "source": [
    "class ConvNet(torch.nn.Module):\n",
    "    def __init__(self):\n",
    "        super(ConvNet, self).__init__()\n",
    "        \n",
    "        ##############################################################################\n",
    "        # TODO: Define a simple CNN contraining Conv, Pooling, and FC layers.        #\n",
    "        ##############################################################################\n",
    "        \n",
    "        # Block 1:         3 x 32 x 32 --> 64 x 16 x 16\n",
    "        self.layel_1 = torch.nn.Conv2d(3, 64, 3, stride=1, padding=1 )\n",
    "        self.layel_1_pool = torch.nn.MaxPool2d(2, stride=2)\n",
    "\n",
    "        # Block 2:         64 x 16 x 16 --> 128 x 8 x 8 \n",
    "        self.layel_2 = torch.nn.Conv2d(64, 128, 3, stride=1, padding=1 )\n",
    "        self.layel_2_pool = torch.nn.MaxPool2d(2, stride=2)\n",
    "\n",
    "        # Block 3:         128 x 8 x 8 --> 256 x 4 x 4 \n",
    "        self.layel_3 = torch.nn.Conv2d(128, 256, 3, stride=1, padding=1 )\n",
    "        self.layel_3_pool = torch.nn.MaxPool2d(2, stride=2)\n",
    "        \n",
    "        # Block 4:          256 x 4 x 4 --> 512 x 2 x 2\n",
    "        self.layel_4 = torch.nn.Conv2d(256, 512, 3, stride=1, padding=1 )\n",
    "        self.layel_4_pool = torch.nn.MaxPool2d(2, stride=2)\n",
    "\n",
    "        # Linear layers:   512 x 2 x 2 --> 2048 --> 4096 --> 4096 --> 10\n",
    "        self.layel_one = torch.nn.Flatten()\n",
    "        self.layel_two = torch.nn.Linear(2048, 4096)\n",
    "        self.layel_three = torch.nn.Linear(4096, 4096)\n",
    "        self.layel_four = torch.nn.Linear(4096, 10)\n",
    "\n",
    "        ##############################################################################\n",
    "        #                             END OF YOUR CODE                               #\n",
    "        ##############################################################################\n",
    "\n",
    "    def forward(self, x):\n",
    "        \n",
    "        ##############################################################################\n",
    "        # TODO: Implement forward path turning an input image to class probability.  #\n",
    "        # For activation function, please use ReLU.                                  #\n",
    "        ##############################################################################\n",
    "        func = torch.nn.ReLU()\n",
    "\n",
    "        # Block 1:         3 x 32 x 32 --> 64 x 16 x 16\n",
    "        self.func_result = func(self.layel_1(x))\n",
    "        self.func_result = self.layel_1_pool(self.func_result)\n",
    "\n",
    "        # Block 2:         64 x 16 x 16 --> 128 x 8 x 8\n",
    "        self.func_result = func(self.layel_2(self.func_result))\n",
    "        self.func_result = self.layel_2_pool(self.func_result)\n",
    "\n",
    "        # Block 3:         128 x 8 x 8 --> 256 x 4 x 4\n",
    "        self.func_result = func(self.layel_3(self.func_result))\n",
    "        self.func_result = self.layel_3_pool(self.func_result)\n",
    "\n",
    "        # Block 4:         256 x 4 x 4 --> 512 x 2 x 2\n",
    "        self.func_result = func(self.layel_4(self.func_result))\n",
    "        self.func_result = self.layel_4_pool(self.func_result)\n",
    "\n",
    "        # Linear layers:   512 x 2 x 2 --> 2048 --> 4096 --> 4096 --> 10\n",
    "        self.func_result = self.layel_one(self.func_result)\n",
    "        self.func_result = self.layel_two(self.func_result)\n",
    "        self.func_result = self.layel_three(self.func_result)\n",
    "        x = self.layel_four(self.func_result)\n",
    "\n",
    "        ##############################################################################\n",
    "        #                             END OF YOUR CODE                               #\n",
    "        ##############################################################################\n",
    "        \n",
    "        return x\n",
    "\n",
    "model = ConvNet()\n",
    "model.to(device)\n",
    "print(model)"
   ]
  },
  {
   "cell_type": "markdown",
   "metadata": {
    "id": "CT0GtJL3Ag-I"
   },
   "source": [
    "### Training the Model\n",
    "\n",
    "Some default settings for training. "
   ]
  },
  {
   "cell_type": "code",
   "execution_count": 6,
   "metadata": {},
   "outputs": [],
   "source": [
    "# Hyperparameters\n",
    "epochs = 20\n",
    "batch_size = 128\n",
    "learning_rate = 0.25\n",
    "\n",
    "# Set up optimizer\n",
    "optimizer = optim.SGD(model.parameters(), lr=learning_rate)\n",
    "# Define loss function\n",
    "criterion = torch.nn.CrossEntropyLoss()\n",
    "# Build data loaders\n",
    "train_loader = torch.utils.data.DataLoader(train_set, batch_size=batch_size, shuffle=True, num_workers=1)\n",
    "test_loader = torch.utils.data.DataLoader(test_set, batch_size=batch_size, shuffle=False, num_workers=1)\n",
    "data_loaders = {\"train\": train_loader, \"test\": test_loader}\n",
    "dataset_sizes = {\"train\": train_size, \"test\": test_size}"
   ]
  },
  {
   "cell_type": "markdown",
   "metadata": {},
   "source": [
    "Here, your job is to implement two functions for training and testing model."
   ]
  },
  {
   "cell_type": "code",
   "execution_count": 7,
   "metadata": {
    "executionInfo": {
     "elapsed": 389,
     "status": "ok",
     "timestamp": 1643108238007,
     "user": {
      "displayName": "Zhangjie Wu",
      "photoUrl": "https://lh3.googleusercontent.com/a/default-user=s64",
      "userId": "01242795707158007374"
     },
     "user_tz": -480
    },
    "id": "i8ERy2xSuygX"
   },
   "outputs": [],
   "source": [
    "def eval_on_test_set(model):\n",
    "    model.eval()\n",
    "    running_error = 0\n",
    "\n",
    "    for data in test_loader:\n",
    "        pass\n",
    "        ##############################################################################\n",
    "        # TODO: Implement the evaluation process on test set.                        #\n",
    "        ##############################################################################\n",
    "\n",
    "        # Load inputs and labels and deploy to running device\n",
    "        inputs, labels = data\n",
    "        inputs, labels = inputs.to(device), labels.to(device)\n",
    "\n",
    "        # Forward batch data through the net\n",
    "        result = model(inputs)\n",
    "        # Compute the error made on this batch and add it to the running error\n",
    "        running_error = running_error + (result.argmax(1) != labels).type(torch.float).sum().item()\n",
    "        \n",
    "        ##############################################################################\n",
    "        #                             END OF YOUR CODE                               #\n",
    "        ##############################################################################\n",
    "        \n",
    "    total_error = running_error / test_size\n",
    "    print('error rate on test set = {:.2f}%'.format(total_error * 100))\n",
    "    model.train()"
   ]
  },
  {
   "cell_type": "code",
   "execution_count": 8,
   "metadata": {
    "colab": {
     "base_uri": "https://localhost:8080/"
    },
    "executionInfo": {
     "elapsed": 350154,
     "status": "ok",
     "timestamp": 1643108590579,
     "user": {
      "displayName": "Zhangjie Wu",
      "photoUrl": "https://lh3.googleusercontent.com/a/default-user=s64",
      "userId": "01242795707158007374"
     },
     "user_tz": -480
    },
    "id": "iL3QYrp7u1V4",
    "outputId": "da0b7abf-d03f-448b-a452-ba7d020e7604"
   },
   "outputs": [],
   "source": [
    "def train_net(model):\n",
    "    start=time.time()\n",
    "    model.train()\n",
    "\n",
    "    for epoch in range(epochs):\n",
    "        # set the running quatities to zero at the beginning of the epoch\n",
    "        running_loss = 0\n",
    "        running_error = 0\n",
    "    \n",
    "        for data in train_loader:\n",
    "            pass\n",
    "            ##############################################################################\n",
    "            # TODO: Implement the training process.                                      #\n",
    "            ##############################################################################\n",
    "\n",
    "            # Load inputs and labels and deploy to running device\n",
    "            inputs, labels = data\n",
    "            inputs, labels = inputs.to(device), labels.to(device)\n",
    "\n",
    "            # Set the gradients to zeros\n",
    "            optimizer.zero_grad()\n",
    "            \n",
    "            # Forward the batch data through the net \n",
    "            result = model(inputs)\n",
    "\n",
    "            # Compute the average of the losses of the data points in the minibatch\n",
    "            loss_ave = criterion(result,labels)\n",
    "\n",
    "            # Backward pass to compute gradients\n",
    "            loss_ave.backward()\n",
    "\n",
    "            # Do one step of stochastic gradient descent\n",
    "            optimizer.step()\n",
    "\n",
    "            # Add the loss of this batch to the running loss\n",
    "            running_loss += loss_ave.item()\n",
    "\n",
    "            # Compute the error made on this batch and add it to the running error\n",
    "            running_error += (result.argmax(1) != labels).type(torch.float).sum().item()\n",
    "\n",
    "            ##############################################################################\n",
    "            #                             END OF YOUR CODE                               #\n",
    "            ##############################################################################\n",
    "            \n",
    "        # Compute stats for the full training set\n",
    "        total_loss = running_loss / train_size\n",
    "        total_error = running_error / train_size\n",
    "        elapsed = (time.time()-start) / 60\n",
    "        \n",
    "        print('epoch= {} \\t time= {:.2f} min \\t loss= {:.3f} \\t error= {:.2f}%'.format(epoch, elapsed, total_loss, total_error * 100))\n",
    "        eval_on_test_set(model) "
   ]
  },
  {
   "cell_type": "markdown",
   "metadata": {},
   "source": [
    "Run `train_net` and start training. After training, your error on the testing set should be under 30% (if not, please look back and check your codes, there might be something wrong with the network architecture or training process). Once the training phrase is completed, save the trained model on your device so it can be directly loaded in the following tasks."
   ]
  },
  {
   "cell_type": "code",
   "execution_count": 9,
   "metadata": {},
   "outputs": [
    {
     "name": "stderr",
     "output_type": "stream",
     "text": [
      "D:\\anaconda\\envs\\pytorch\\lib\\site-packages\\torch\\nn\\functional.py:718: UserWarning: Named tensors and all their associated APIs are an experimental feature and subject to change. Please do not use them for anything important until they are released as stable. (Triggered internally at  ..\\c10/core/TensorImpl.h:1156.)\n",
      "  return torch.max_pool2d(input, kernel_size, stride, padding, dilation, ceil_mode)\n"
     ]
    },
    {
     "name": "stdout",
     "output_type": "stream",
     "text": [
      "epoch= 0 \t time= 0.44 min \t loss= 0.015 \t error= 70.31%\n",
      "error rate on test set = 59.10%\n",
      "epoch= 1 \t time= 0.96 min \t loss= 0.010 \t error= 47.10%\n",
      "error rate on test set = 39.22%\n",
      "epoch= 2 \t time= 1.49 min \t loss= 0.008 \t error= 34.57%\n",
      "error rate on test set = 31.20%\n",
      "epoch= 3 \t time= 2.05 min \t loss= 0.006 \t error= 26.71%\n",
      "error rate on test set = 27.22%\n",
      "epoch= 4 \t time= 2.59 min \t loss= 0.005 \t error= 21.43%\n",
      "error rate on test set = 25.03%\n",
      "epoch= 5 \t time= 3.15 min \t loss= 0.004 \t error= 16.70%\n",
      "error rate on test set = 28.33%\n",
      "epoch= 6 \t time= 3.69 min \t loss= 0.003 \t error= 14.91%\n",
      "error rate on test set = 32.47%\n",
      "epoch= 7 \t time= 4.22 min \t loss= 0.002 \t error= 10.06%\n",
      "error rate on test set = 25.90%\n",
      "epoch= 8 \t time= 4.76 min \t loss= 0.002 \t error= 7.99%\n",
      "error rate on test set = 28.07%\n",
      "epoch= 9 \t time= 5.33 min \t loss= 0.002 \t error= 6.57%\n",
      "error rate on test set = 27.65%\n",
      "epoch= 10 \t time= 5.88 min \t loss= 0.001 \t error= 5.33%\n",
      "error rate on test set = 24.50%\n",
      "epoch= 11 \t time= 6.43 min \t loss= 0.001 \t error= 4.30%\n",
      "error rate on test set = 28.47%\n",
      "epoch= 12 \t time= 6.98 min \t loss= 0.001 \t error= 4.66%\n",
      "error rate on test set = 24.76%\n",
      "epoch= 13 \t time= 7.55 min \t loss= 0.001 \t error= 3.29%\n",
      "error rate on test set = 26.33%\n",
      "epoch= 14 \t time= 8.10 min \t loss= 0.001 \t error= 2.93%\n",
      "error rate on test set = 25.79%\n",
      "epoch= 15 \t time= 8.67 min \t loss= 0.001 \t error= 2.78%\n",
      "error rate on test set = 25.39%\n",
      "epoch= 16 \t time= 9.22 min \t loss= 0.001 \t error= 2.67%\n",
      "error rate on test set = 24.88%\n",
      "epoch= 17 \t time= 9.79 min \t loss= 0.001 \t error= 2.57%\n",
      "error rate on test set = 23.68%\n",
      "epoch= 18 \t time= 10.36 min \t loss= 0.001 \t error= 2.55%\n",
      "error rate on test set = 26.14%\n",
      "epoch= 19 \t time= 10.92 min \t loss= 0.001 \t error= 2.03%\n",
      "error rate on test set = 24.57%\n"
     ]
    }
   ],
   "source": [
    "# Start training\n",
    "train_net(model)\n",
    "# Save the trained model\n",
    "torch.save(model.state_dict(), './model_cnn.pt')"
   ]
  },
  {
   "cell_type": "markdown",
   "metadata": {
    "id": "D94cT95fDn4q"
   },
   "source": [
    "### Ploting the Results\n",
    "\n",
    "Now you have finished model training, let's randomly pick some test images, feed them into your model and see how they turn out. (There is nothing to implement in this section.)"
   ]
  },
  {
   "cell_type": "code",
   "execution_count": 10,
   "metadata": {
    "colab": {
     "base_uri": "https://localhost:8080/"
    },
    "executionInfo": {
     "elapsed": 436,
     "status": "ok",
     "timestamp": 1643114908663,
     "user": {
      "displayName": "Zhangjie Wu",
      "photoUrl": "https://lh3.googleusercontent.com/a/default-user=s64",
      "userId": "01242795707158007374"
     },
     "user_tz": -480
    },
    "id": "OAEMjcgax1cK",
    "outputId": "4d52ebcf-9955-4da2-b34d-f73bc73f4c36"
   },
   "outputs": [
    {
     "data": {
      "text/plain": [
       "ConvNet(\n",
       "  (layel_1): Conv2d(3, 64, kernel_size=(3, 3), stride=(1, 1), padding=(1, 1))\n",
       "  (layel_1_pool): MaxPool2d(kernel_size=2, stride=2, padding=0, dilation=1, ceil_mode=False)\n",
       "  (layel_2): Conv2d(64, 128, kernel_size=(3, 3), stride=(1, 1), padding=(1, 1))\n",
       "  (layel_2_pool): MaxPool2d(kernel_size=2, stride=2, padding=0, dilation=1, ceil_mode=False)\n",
       "  (layel_3): Conv2d(128, 256, kernel_size=(3, 3), stride=(1, 1), padding=(1, 1))\n",
       "  (layel_3_pool): MaxPool2d(kernel_size=2, stride=2, padding=0, dilation=1, ceil_mode=False)\n",
       "  (layel_4): Conv2d(256, 512, kernel_size=(3, 3), stride=(1, 1), padding=(1, 1))\n",
       "  (layel_4_pool): MaxPool2d(kernel_size=2, stride=2, padding=0, dilation=1, ceil_mode=False)\n",
       "  (layel_one): Flatten(start_dim=1, end_dim=-1)\n",
       "  (layel_two): Linear(in_features=2048, out_features=4096, bias=True)\n",
       "  (layel_three): Linear(in_features=4096, out_features=4096, bias=True)\n",
       "  (layel_four): Linear(in_features=4096, out_features=10, bias=True)\n",
       ")"
      ]
     },
     "execution_count": 10,
     "metadata": {},
     "output_type": "execute_result"
    }
   ],
   "source": [
    "assert os.path.exists('./model_cnn.pt'), 'train the model first'\n",
    "# Load the trained model\n",
    "model.load_state_dict(torch.load('./model_cnn.pt', map_location=torch.device('cpu')))\n",
    "model.to(device)\n",
    "model.eval()"
   ]
  },
  {
   "cell_type": "code",
   "execution_count": 11,
   "metadata": {
    "colab": {
     "base_uri": "https://localhost:8080/",
     "height": 819
    },
    "executionInfo": {
     "elapsed": 1372,
     "status": "ok",
     "timestamp": 1643115441114,
     "user": {
      "displayName": "Zhangjie Wu",
      "photoUrl": "https://lh3.googleusercontent.com/a/default-user=s64",
      "userId": "01242795707158007374"
     },
     "user_tz": -480
    },
    "id": "BiWyCjxO4zqr",
    "outputId": "238a728b-b90b-4832-981d-4676ed7ea111"
   },
   "outputs": [
    {
     "name": "stdout",
     "output_type": "stream",
     "text": [
      "1722\n"
     ]
    },
    {
     "data": {
      "image/png": "[encoded data removed]",
      "text/plain": [
       "<Figure size 360x360 with 2 Axes>"
      ]
     },
     "metadata": {
      "needs_background": "light"
     },
     "output_type": "display_data"
    }
   ],
   "source": [
    "# Choose a picture at random\n",
    "idx = randint(0, test_size-1)\n",
    "print(idx)\n",
    "im, label = test_set[idx]\n",
    "org_im = inverse_transform(im)\n",
    "\n",
    "# Send to device, rescale, and view as a batch of 1 \n",
    "im = im.to(device)\n",
    "im = im.view(1,3,32,32)\n",
    "\n",
    "# Feed it to the net and display the confidence scores\n",
    "scores = model(im) \n",
    "probs = F.softmax(scores, dim=1)\n",
    "show_prob_cifar(org_im, label, probs)"
   ]
  },
  {
   "cell_type": "markdown",
   "metadata": {},
   "source": [
    "### Refining the Model\n",
    "\n",
    "Although the vallina model has achieved fair classification results, the test error is still high remaining huge room for further improvement. There are lots of methods to refine your model, such as **modifying the network architecture** (e.g., making your network deeper), **optimizing the learning strategy** (e.g., optimizer, loss function), and **tuning the hyperparameters** (e.g., learning rate, training iterations), etc. Please try at least **TWO** different methods to improve your model's performance, and discuss why these changes can work. Design and conduct your own experiments using the coding cell below, and present your experimental results and analysis in a decent way (e.g., drawing some neat figures/tables can help to convey your thoughts effectively). "
   ]
  },
  {
   "cell_type": "code",
   "execution_count": 12,
   "metadata": {},
   "outputs": [
    {
     "name": "stdout",
     "output_type": "stream",
     "text": [
      "Result for Method One\n",
      "epoch= 0 \t time= 0.49 min \t loss= 0.015 \t error= 73.06%\n",
      "error rate on test set = 60.20%\n",
      "epoch= 1 \t time= 1.05 min \t loss= 0.011 \t error= 49.05%\n",
      "error rate on test set = 41.87%\n",
      "epoch= 2 \t time= 1.65 min \t loss= 0.008 \t error= 36.23%\n",
      "error rate on test set = 37.29%\n",
      "epoch= 3 \t time= 2.22 min \t loss= 0.006 \t error= 28.75%\n",
      "error rate on test set = 32.16%\n",
      "epoch= 4 \t time= 2.79 min \t loss= 0.005 \t error= 23.19%\n",
      "error rate on test set = 28.40%\n",
      "epoch= 5 \t time= 3.36 min \t loss= 0.004 \t error= 18.73%\n",
      "error rate on test set = 34.01%\n",
      "epoch= 6 \t time= 3.90 min \t loss= 0.003 \t error= 15.04%\n",
      "error rate on test set = 24.39%\n",
      "epoch= 7 \t time= 4.48 min \t loss= 0.003 \t error= 12.31%\n",
      "error rate on test set = 26.78%\n",
      "epoch= 8 \t time= 5.03 min \t loss= 0.003 \t error= 11.28%\n",
      "error rate on test set = 26.78%\n",
      "epoch= 9 \t time= 5.59 min \t loss= 0.002 \t error= 7.86%\n",
      "error rate on test set = 27.68%\n",
      "epoch= 10 \t time= 6.14 min \t loss= 0.002 \t error= 6.68%\n",
      "error rate on test set = 27.46%\n",
      "epoch= 11 \t time= 6.70 min \t loss= 0.001 \t error= 5.80%\n",
      "error rate on test set = 26.02%\n",
      "epoch= 12 \t time= 7.24 min \t loss= 0.001 \t error= 4.91%\n",
      "error rate on test set = 27.38%\n",
      "epoch= 13 \t time= 7.81 min \t loss= 0.001 \t error= 4.31%\n",
      "error rate on test set = 25.56%\n",
      "epoch= 14 \t time= 8.36 min \t loss= 0.001 \t error= 3.67%\n",
      "error rate on test set = 24.70%\n",
      "epoch= 15 \t time= 8.92 min \t loss= 0.001 \t error= 3.26%\n",
      "error rate on test set = 27.61%\n",
      "epoch= 16 \t time= 9.48 min \t loss= 0.001 \t error= 3.17%\n",
      "error rate on test set = 25.41%\n",
      "epoch= 17 \t time= 10.07 min \t loss= 0.001 \t error= 3.38%\n",
      "error rate on test set = 25.55%\n",
      "epoch= 18 \t time= 10.62 min \t loss= 0.001 \t error= 2.84%\n",
      "error rate on test set = 25.15%\n",
      "epoch= 19 \t time= 11.20 min \t loss= 0.001 \t error= 2.92%\n",
      "error rate on test set = 25.70%\n",
      "epoch= 20 \t time= 11.75 min \t loss= 0.001 \t error= 2.91%\n",
      "error rate on test set = 26.74%\n",
      "epoch= 21 \t time= 12.32 min \t loss= 0.001 \t error= 2.55%\n",
      "error rate on test set = 32.05%\n",
      "epoch= 22 \t time= 12.87 min \t loss= 0.001 \t error= 2.64%\n",
      "error rate on test set = 28.45%\n",
      "epoch= 23 \t time= 13.44 min \t loss= 0.001 \t error= 2.72%\n",
      "error rate on test set = 25.10%\n",
      "epoch= 24 \t time= 14.02 min \t loss= 0.001 \t error= 2.64%\n",
      "error rate on test set = 29.21%\n"
     ]
    }
   ],
   "source": [
    "##############################################################################\n",
    "# TODO: Conduct experiments to refine your model (e.g., modify the backbone, #\n",
    "# alter the learning strategy, and tuning the hyperparameters, etc.).        #\n",
    "##############################################################################\n",
    "#Method one : optimizing the learning strategy\n",
    "# Set learning strategy(changing epochs)\n",
    "epochs = 25\n",
    "batch_size = 128\n",
    "learning_rate = 0.25\n",
    "model_one = ConvNet()\n",
    "model_one.to(device)\n",
    "optimizer = optim.SGD(model_one.parameters(), lr=learning_rate)\n",
    "# Define loss function\n",
    "criterion = torch.nn.CrossEntropyLoss()\n",
    "print('Result for Method One')\n",
    "train_net(model_one) \n",
    "# Save the trained model\n",
    "torch.save(model_one.state_dict(), './model_one_cnn.pt')\n",
    "\n",
    "##############################################################################\n",
    "#                             END OF YOUR CODE                               #\n",
    "##############################################################################"
   ]
  },
  {
   "cell_type": "code",
   "execution_count": 13,
   "metadata": {},
   "outputs": [
    {
     "name": "stdout",
     "output_type": "stream",
     "text": [
      "Result for Method Two\n",
      "epoch= 0 \t time= 0.53 min \t loss= 0.016 \t error= 77.80%\n",
      "error rate on test set = 70.02%\n",
      "epoch= 1 \t time= 1.13 min \t loss= 0.012 \t error= 54.35%\n",
      "error rate on test set = 46.75%\n",
      "epoch= 2 \t time= 1.74 min \t loss= 0.008 \t error= 38.28%\n",
      "error rate on test set = 32.31%\n",
      "epoch= 3 \t time= 2.34 min \t loss= 0.007 \t error= 30.45%\n",
      "error rate on test set = 29.34%\n",
      "epoch= 4 \t time= 2.94 min \t loss= 0.006 \t error= 24.73%\n",
      "error rate on test set = 30.56%\n",
      "epoch= 5 \t time= 3.56 min \t loss= 0.005 \t error= 20.60%\n",
      "error rate on test set = 28.20%\n",
      "epoch= 6 \t time= 4.17 min \t loss= 0.004 \t error= 17.28%\n",
      "error rate on test set = 26.44%\n",
      "epoch= 7 \t time= 4.76 min \t loss= 0.003 \t error= 15.25%\n",
      "error rate on test set = 27.00%\n",
      "epoch= 8 \t time= 5.36 min \t loss= 0.003 \t error= 13.14%\n",
      "error rate on test set = 29.14%\n",
      "epoch= 9 \t time= 5.97 min \t loss= 0.003 \t error= 12.13%\n",
      "error rate on test set = 28.27%\n",
      "epoch= 10 \t time= 6.56 min \t loss= 0.002 \t error= 10.59%\n",
      "error rate on test set = 30.56%\n",
      "epoch= 11 \t time= 7.16 min \t loss= 0.002 \t error= 10.30%\n",
      "error rate on test set = 27.91%\n",
      "epoch= 12 \t time= 7.75 min \t loss= 0.002 \t error= 9.48%\n",
      "error rate on test set = 28.69%\n",
      "epoch= 13 \t time= 8.33 min \t loss= 0.002 \t error= 9.42%\n",
      "error rate on test set = 28.42%\n",
      "epoch= 14 \t time= 8.94 min \t loss= 0.002 \t error= 8.97%\n",
      "error rate on test set = 27.46%\n",
      "epoch= 15 \t time= 9.51 min \t loss= 0.002 \t error= 8.78%\n",
      "error rate on test set = 32.20%\n",
      "epoch= 16 \t time= 10.10 min \t loss= 0.002 \t error= 8.42%\n",
      "error rate on test set = 25.86%\n",
      "epoch= 17 \t time= 10.68 min \t loss= 0.002 \t error= 8.07%\n",
      "error rate on test set = 30.35%\n",
      "epoch= 18 \t time= 11.25 min \t loss= 0.002 \t error= 8.47%\n",
      "error rate on test set = 29.61%\n",
      "epoch= 19 \t time= 11.84 min \t loss= 0.002 \t error= 8.59%\n",
      "error rate on test set = 29.70%\n"
     ]
    }
   ],
   "source": [
    "##############################################################################\n",
    "# TODO: Conduct experiments to refine your model (e.g., modify the backbone, #\n",
    "# alter the learning strategy, and tuning the hyperparameters, etc.).        #\n",
    "##############################################################################\n",
    "# Method two : optimizing the learning strategy(changing optimizer)\n",
    "epochs = 20\n",
    "batch_size = 128\n",
    "learning_rate = 0.25\n",
    "model_two = ConvNet()\n",
    "model_two.to(device)\n",
    "print('Result for Method Two')\n",
    "# Set up optimizer\n",
    "optimizer = torch.optim.SGD(model_two.parameters(), lr=learning_rate, momentum=0.4)\n",
    "optimizer.zero_grad()\n",
    "criterion = torch.nn.CrossEntropyLoss()\n",
    "train_net(model_two) \n",
    "# Save the trained model\n",
    "torch.save(model_two.state_dict(), './model_two_cnn.pt')\n",
    "##############################################################################\n",
    "#                             END OF YOUR CODE                               #\n",
    "##############################################################################"
   ]
  },
  {
   "cell_type": "markdown",
   "metadata": {},
   "source": [
    "| |Minimum Error Rate| |\n",
    "| :----: | :----:  | :----:  |\n",
    "|Original|Method one|Method two|\n",
    "|23.68%|24.39%|25.86%|\n",
    "    \n",
    "\n"
   ]
  },
  {
   "cell_type": "markdown",
   "metadata": {},
   "source": [
    "| |The number of iterations required for the error rate to be less than 30%| |\n",
    "| ------ | ------ | ------ |\n",
    "|Original|Method one|Method two|\n",
    "|8|5|4|"
   ]
  },
  {
   "cell_type": "markdown",
   "metadata": {},
   "source": [
    "<img src=\"./figures/taks1.png\" width=\"400\"/>"
   ]
  },
  {
   "cell_type": "markdown",
   "metadata": {},
   "source": [
    "It can be found from the above two tables that the error rates obtained by the three different methods are similar, but the speed of reaching the requirement that the error rate is less than 30% is faster and faster.\n",
    "\n",
    "This is because the first method only changes the learning rate of the original model, while the second method selects a new optimizer. Different learning rates will change the learning speed. For different optimizers, the model will be optimized faster, so it can meet the requirements faster."
   ]
  },
  {
   "cell_type": "markdown",
   "metadata": {
    "id": "-dQFsHMr_8ol"
   },
   "source": [
    "## Task 2: Model Interpretation\n",
    "\n",
    "The model is doing well, eating images and predicting results; however, everything that happens inside is opaque and hard to explain. So, how can we interpret how CNN sees and understands when making a decision? \n",
    "\n",
    "In this section, we are going to explore Grad-CAM, a visual explanation algorithm that generates heatmaps indicating where the network is \"looking\" in the forward pass."
   ]
  },
  {
   "cell_type": "markdown",
   "metadata": {},
   "source": [
    "#### Grad-CAM\n",
    "\n",
    "Gradient-weighted Class Activation Mapping (Grad-CAM) [1], uses the gradients of any target concept, flowing into the final convolutional layer to produce a coarse localization map highlighting important regions in the image for predicting the concept. An overview of the workflow of Grad-CAM is shown below. Please read the paper [1], understand the algorithm, and implement `generate_cam`.\n",
    "\n",
    "<img src=\"./figures/gradcam_network.png\" width=\"800\"/>\n",
    "\n",
    "[1] [Selvaraju, Ramprasaath R., et al. \"Grad-cam: Visual explanations from deep networks via gradient-based localization.\" ICCV 2017.](https://arxiv.org/abs/1610.02391)"
   ]
  },
  {
   "cell_type": "code",
   "execution_count": 14,
   "metadata": {},
   "outputs": [],
   "source": [
    "gradients = []  # A gloabl variable used to save the gradient\n",
    "def generate_cam(model, input_image, target_layer='layel_4', target_class=None):\n",
    "    \"\"\"\n",
    "    A function to generate Grad-CAM of specific layer and class on an input image using given model.\n",
    "  \n",
    "    Inputs\n",
    "    - model: A PyTorch model.\n",
    "    - input_image: A PyTorch Tensor of shape (1, C, H, W).\n",
    "    - target_layer: A String indicating the name of targeted convolutional layer being visualized (e.g., 'conv4').\n",
    "                    By default, use the last conv layer of the model.\n",
    "    - target_class: An Integer indicating the lable of targeted class being visualized (e.g., 1). \n",
    "                    If None, use the predicted class as target class.\n",
    "    \n",
    "    Returns: A NumPy Array of shape (N, C, H, W) showing the intended heatmap.\n",
    "    \"\"\"\n",
    "\n",
    "    ##############################################################################\n",
    "    # TODO: Given an input image, generate its Grad-CAM on target conv layer     #\n",
    "    # using the backward gradients from a specific class.                        #\n",
    "    # 1. Forward the input image, when you also need to register the gradient    #\n",
    "    # hook so as to get the gradient in backward pass (hint: register_hook).     #\n",
    "    # 2. Backward pass with specified target class, and get gradients.           #\n",
    "    # 3. Average each gradient, multiply with its conv output, and sum together. #\n",
    "    ##############################################################################\n",
    "\n",
    "    fmap_block = list()    \n",
    "    def backward_hook(model,grad_input,grad_output):\n",
    "        gradients.append(grad_output[0].detach())\n",
    "        \n",
    "    def forward_hook(model,input,output):\n",
    "        fmap_block.append(output)\n",
    "    \n",
    "    \n",
    "    #register_hook\n",
    "    model.__getattr__(target_layer).register_forward_hook(forward_hook)\n",
    "    model.__getattr__(target_layer).register_backward_hook(backward_hook)\n",
    "    \n",
    "    #forward process\n",
    "    output_img = model(input_image)\n",
    "    index = np.argmax(output_img.cpu().data.numpy())\n",
    "    \n",
    "    #backward process\\\n",
    "    model.zero_grad()\n",
    "    label_loss = output_img[0,index]\n",
    "    label_loss.backward()\n",
    "    \n",
    "    grads = gradients[0].cpu().data.numpy().squeeze()\n",
    "    fmap = fmap_block[0].cpu().data.numpy().squeeze()\n",
    "    \n",
    "    cam = np.ones(fmap.shape[1:],dtype=np.float32)\n",
    "    grads = grads.reshape([grads.shape[0],-1])\n",
    "    \n",
    "    weights = np.mean(grads,axis=1)\n",
    "    boundary = fmap.shape[0]\n",
    "    for i,w in enumerate(weights):\n",
    "        if i >= boundary:\n",
    "            break\n",
    "        cam += abs(w * fmap[i,:,:])\n",
    "    \n",
    "    \n",
    "    ##############################################################################\n",
    "    #                             END OF YOUR CODE                               #\n",
    "    ##############################################################################\n",
    "\n",
    "    # Post processing\n",
    "    cam = np.maximum(cam, 0)\n",
    "    cam = (cam - np.min(cam)) / (np.max(cam) - np.min(cam))  # Normalize between 0-1\n",
    "    cam = np.uint8(cam * 255)  # Scale between 0-255 to visualize\n",
    "    cam = np.uint8(Image.fromarray(cam).resize((input_image.shape[2],\n",
    "                    input_image.shape[3]), Image.ANTIALIAS))\n",
    "\n",
    "    return cam"
   ]
  },
  {
   "cell_type": "code",
   "execution_count": 17,
   "metadata": {},
   "outputs": [
    {
     "data": {
      "image/png": "[encoded data removed]",
      "text/plain": [
       "<Figure size 432x288 with 2 Axes>"
      ]
     },
     "metadata": {
      "needs_background": "light"
     },
     "output_type": "display_data"
    }
   ],
   "source": [
    "idx = randint(0, test_size-1)\n",
    "im, label = test_set[idx]\n",
    "org_im = inverse_transform(im)\n",
    "\n",
    "im = im.to(device)\n",
    "im = im.view(1,3,32,32)\n",
    "\n",
    "ax = plt.subplot(1, 2, 1)\n",
    "ax.imshow(org_im)\n",
    "ax.set_title('Original Image')\n",
    "ax.set_axis_off()\n",
    "\n",
    "cam = generate_cam(model, im)\n",
    "heatmap, heatmap_on_image = apply_colormap_on_image(org_im, cam, 'hsv')\n",
    "\n",
    "ax = plt.subplot(1, 2, 2)\n",
    "ax.imshow(heatmap_on_image)\n",
    "ax.set_title('Grad-CAM')\n",
    "ax.set_axis_off()"
   ]
  },
  {
   "cell_type": "markdown",
   "metadata": {},
   "source": [
    "### Performing Visual Explanation\n",
    "\n",
    "Now you have successfully built a powerful tool (i.e., Grad-CAM) that can assist you to visualize and understand the CNN models. Try to make full use of `generate_cam` and design at least **TWO** experiments that can further explain how CNN sees and understands the images. For example, apply Grad-CAM on different layers and compare their differences. Please quantitatively show some evidence (e.g., plotting some examplar images clearly and elegantly) with necessary code snippets, write down your observations and briefly explain each. "
   ]
  },
  {
   "cell_type": "code",
   "execution_count": 19,
   "metadata": {},
   "outputs": [
    {
     "data": {
      "image/png": "[encoded data removed]",
      "text/plain": [
       "<Figure size 432x288 with 4 Axes>"
      ]
     },
     "metadata": {
      "needs_background": "light"
     },
     "output_type": "display_data"
    }
   ],
   "source": [
    "##############################################################################\n",
    "# TODO: Write code snippets to present your experiments (hint: if you want   #\n",
    "# to plot multiple images in one single figure, plt.subplot should help).    #\n",
    "##############################################################################\n",
    "\n",
    "# layer_one \n",
    "idx = randint(0, test_size-1)\n",
    "im, label = test_set[idx]\n",
    "org_im = inverse_transform(im)\n",
    "\n",
    "im = im.to(device)\n",
    "im = im.view(1,3,32,32)\n",
    "\n",
    "ax = plt.subplot(1, 4, 1)\n",
    "ax.imshow(org_im)\n",
    "ax.set_title('Original Image')\n",
    "ax.set_axis_off()\n",
    "\n",
    "cam = generate_cam(model, im,target_layer='layel_1')\n",
    "heatmap, heatmap_on_image = apply_colormap_on_image(org_im, cam, 'hsv')\n",
    "\n",
    "ax = plt.subplot(1, 4, 2)\n",
    "ax.imshow(heatmap_on_image)\n",
    "ax.set_title('Grad-CAM')\n",
    "ax.set_axis_off()\n",
    "\n",
    "# layer_two\n",
    "cam = generate_cam(model, im,target_layer='layel_2')\n",
    "heatmap, heatmap_on_image = apply_colormap_on_image(org_im, cam, 'hsv')\n",
    "\n",
    "ax = plt.subplot(1, 4, 3)\n",
    "ax.imshow(heatmap_on_image)\n",
    "ax.set_title('Grad-CAM')\n",
    "ax.set_axis_off()\n",
    "\n",
    "# layer_three\n",
    "cam = generate_cam(model, im,target_layer='layel_3')\n",
    "heatmap, heatmap_on_image = apply_colormap_on_image(org_im, cam, 'hsv')\n",
    "\n",
    "ax = plt.subplot(1, 4, 4)\n",
    "ax.imshow(heatmap_on_image)\n",
    "ax.set_title('Grad-CAM')\n",
    "ax.set_axis_off()\n",
    "##############################################################################\n",
    "#                             END OF YOUR CODE                               #\n",
    "##############################################################################"
   ]
  },
  {
   "cell_type": "markdown",
   "metadata": {},
   "source": [
    "Gradient weighted class activation mapping (Grad CAM) is an algorithm that can judge the image position without attention.\n",
    "\n",
    "In this part, I applied cam to different convolution layers. The first image is the original image, and the next three images are the cam images of the first, second and third convolution layers (a total of four layers). We can find that the first layer can directly capture the contour of the aircraft, while the second and third layers will also learn the surrounding environment of the contour of the aircraft."
   ]
  },
  {
   "cell_type": "markdown",
   "metadata": {
    "id": "-HdsDUNRBZUO"
   },
   "source": [
    "## Task 3: Adversarial Attack\n",
    "\n",
    "After going through some testing results in Task 1, you might think in most cases the model performs pretty well, predicting the correct classes with high confidence, and rarely making mistakes. However, the network is not as strong as you think. The network can be vulnerable and easily fooled by simply adding some very small distributions on input images. In this section, we are going to attack our previously trained model by generating adversarial images that visually look alike but crush the model without striking a blowing."
   ]
  },
  {
   "cell_type": "markdown",
   "metadata": {},
   "source": [
    "### Adversarial Examples\n",
    "\n",
    "Adversarial examples are specialised inputs created with the purpose of confusing a neural network, resulting in the misclassification of a given input. These examples are usually generated by adding imperceptible non-random perturbations to the image, which are indistinguishable to human eye, but can cause the network to fail to identify the contents of the image. There are many kinds of such attack strategies, here we focus on the **Fast Gradient Sign Method (FGSM)** [2]. FGSM is a white box attack where the attacker has complete access to the model being attacked. The method uses the gradients of the loss with respect to the input image to create a new image that maximises the loss. Below shows a famous exmaple taken from the paper [2], where the classification of image showing \"panda\" is changed to \"gibbon\" after adding an imperceptibly small vector: $\\text{sign}(\\nabla_xJ(\\theta, x, y))$.\n",
    "\n",
    "<img src=\"./figures/adversarial_example.png\" width=\"800\"/>\n",
    "\n",
    "Read the paper [2] for more details, and then implement the following function `generate_adv_image`, which generates \"fooling images\" of target class to attack your network. \n",
    "\n",
    "[2] [Goodfellow, Ian J., Jonathon Shlens, and Christian Szegedy. \"Explaining and harnessing adversarial examples.\" ICLR 2015.](https://arxiv.org/abs/1412.6572)"
   ]
  },
  {
   "cell_type": "code",
   "execution_count": 20,
   "metadata": {},
   "outputs": [],
   "source": [
    "def generate_adv_image(model, inputs, labels, targets=None, eps=0.07):\n",
    "    \"\"\"\n",
    "    A function to generate adversarial examples.\n",
    "  \n",
    "    Inputs\n",
    "    - model: A PyTorch model.\n",
    "    - inputs: Input images, a PyTorch Tensor of shape (N, C, H, W).\n",
    "    - labels: Ground truth labels of input images, a PyTorch Tensor of shape (N,).\n",
    "    - targets: The target classes you want the model to misclassify, a PyTorch Tensor of shape (N,).\n",
    "    \n",
    "    Returns: The adversarial examples of given images.\n",
    "    \"\"\"\n",
    "\n",
    "\n",
    "    ##############################################################################\n",
    "    # TODO: Implement Fast Gradient Sign Method to generate an adversarial image #\n",
    "    # that fools the model to predict incorrect class.                           #   \n",
    "    # 1. Get the gradients of the loss w.r.t to the input image.                 #\n",
    "    # 2. Get the sign of the gradients to create the perturbation.               #\n",
    "    # 3. Add the perturbation to the input image.                                #\n",
    "    ##############################################################################\n",
    "    inputs = inputs.to(device)\n",
    "    \n",
    "    inputs.requires_grad = True\n",
    "    result = model(inputs)\n",
    "    model.zero_grad()\n",
    "    \n",
    "    label_T = list()\n",
    "    label_T.append(labels)\n",
    "    \n",
    "    label_t = torch.tensor(label_T, dtype=torch.long)\n",
    "    label_t = label_t.to(device)\n",
    "    \n",
    "    loss = criterion(result,label_t).to(device)\n",
    "    loss.backward()\n",
    "    \n",
    "    attack_input = inputs + eps*inputs.grad.sign()\n",
    "    adv_inputs = torch.clamp(attack_input,0,1)\n",
    "    \n",
    "    # your code\n",
    "\n",
    "    ##############################################################################\n",
    "    #                             END OF YOUR CODE                               #\n",
    "    ##############################################################################\n",
    "\n",
    "    return adv_inputs.detach()"
   ]
  },
  {
   "cell_type": "markdown",
   "metadata": {},
   "source": [
    "### Attacking the Model"
   ]
  },
  {
   "cell_type": "markdown",
   "metadata": {},
   "source": [
    "Randomly pick up some images from test set, and attack the model using adversarial examples generated by `generate_adv_image`."
   ]
  },
  {
   "cell_type": "code",
   "execution_count": 22,
   "metadata": {},
   "outputs": [
    {
     "name": "stdout",
     "output_type": "stream",
     "text": [
      "Before attack:\n"
     ]
    },
    {
     "data": {
      "image/png": "[encoded data removed]",
      "text/plain": [
       "<Figure size 360x360 with 2 Axes>"
      ]
     },
     "metadata": {
      "needs_background": "light"
     },
     "output_type": "display_data"
    },
    {
     "name": "stdout",
     "output_type": "stream",
     "text": [
      "After attack:\n"
     ]
    },
    {
     "data": {
      "image/png": "[encoded data removed]",
      "text/plain": [
       "<Figure size 360x360 with 2 Axes>"
      ]
     },
     "metadata": {
      "needs_background": "light"
     },
     "output_type": "display_data"
    }
   ],
   "source": [
    "idx = randint(0, len(test_set)-1)\n",
    "im, label = test_set[idx]\n",
    "org_im = inverse_transform(im)\n",
    "\n",
    "im = im.to(device)\n",
    "im = im.view(1,3,32,32)\n",
    "\n",
    "print('Before attack:')\n",
    "scores = model(im) \n",
    "probs = F.softmax(scores, dim=1)\n",
    "show_prob_cifar(org_im, label, probs)\n",
    "\n",
    "adv_im = generate_adv_image(model, im, label)\n",
    "\n",
    "print('After attack:')\n",
    "scores = model(adv_im) \n",
    "probs = F.softmax(scores, dim=1)\n",
    "show_prob_cifar(inverse_transform(adv_im[0]), label, probs)"
   ]
  },
  {
   "cell_type": "markdown",
   "metadata": {},
   "source": [
    "Run evaluation on the testing set to see how the model performs on the generated adversarial examples, and compare with results before attacks. Try different parameters (e.g., `targets`, `eps`), describe your observations with a brief explanation in the below cell. "
   ]
  },
  {
   "cell_type": "code",
   "execution_count": 23,
   "metadata": {},
   "outputs": [
    {
     "name": "stdout",
     "output_type": "stream",
     "text": [
      "Before attack:\n"
     ]
    },
    {
     "data": {
      "image/png": "[encoded data removed]",
      "text/plain": [
       "<Figure size 360x360 with 2 Axes>"
      ]
     },
     "metadata": {
      "needs_background": "light"
     },
     "output_type": "display_data"
    },
    {
     "name": "stdout",
     "output_type": "stream",
     "text": [
      "After attack:\n"
     ]
    },
    {
     "data": {
      "image/png": "[encoded data removed]",
      "text/plain": [
       "<Figure size 360x360 with 2 Axes>"
      ]
     },
     "metadata": {
      "needs_background": "light"
     },
     "output_type": "display_data"
    },
    {
     "name": "stdout",
     "output_type": "stream",
     "text": [
      "After attack:\n"
     ]
    },
    {
     "data": {
      "image/png": "[encoded data removed]",
      "text/plain": [
       "<Figure size 360x360 with 2 Axes>"
      ]
     },
     "metadata": {
      "needs_background": "light"
     },
     "output_type": "display_data"
    }
   ],
   "source": [
    "##############################################################################\n",
    "# TODO: Evaluate error rate on adversarial images generated from testing set #\n",
    "# with different parameter settings.                                         #\n",
    "##############################################################################\n",
    "#eps = 0.08\n",
    "idx = randint(0, len(test_set)-1)\n",
    "im, label = test_set[idx]\n",
    "org_im = inverse_transform(im)\n",
    "\n",
    "im = im.to(device)\n",
    "im = im.view(1,3,32,32)\n",
    "\n",
    "print('Before attack:')\n",
    "scores = model(im) \n",
    "probs = F.softmax(scores, dim=1)\n",
    "show_prob_cifar(org_im, label, probs)\n",
    "\n",
    "adv_im = generate_adv_image(model, im, label,eps=0.08)\n",
    "\n",
    "print('After attack:')\n",
    "scores = model(adv_im) \n",
    "probs = F.softmax(scores, dim=1)\n",
    "show_prob_cifar(inverse_transform(adv_im[0]), label, probs)\n",
    "\n",
    "#eps = 0.1\n",
    "\n",
    "\n",
    "adv_im = generate_adv_image(model, im, label,eps=0.1)\n",
    "\n",
    "print('After attack:')\n",
    "scores = model(adv_im) \n",
    "probs = F.softmax(scores, dim=1)\n",
    "show_prob_cifar(inverse_transform(adv_im[0]), label, probs)\n",
    "\n",
    "##############################################################################\n",
    "#                             END OF YOUR CODE                               #\n",
    "##############################################################################"
   ]
  },
  {
   "cell_type": "markdown",
   "metadata": {},
   "source": [
    "In this part, I choose to change different eps values to optimize the model. Generally, there is a weight parameter eps in front of the gradient direction, which can be used to control the amplitude of attack noise. The larger the parameter value is, the greater the attack intensity is, and the attack noise is easier to be observed by the naked eye.\n",
    "The label selected in the original image is bird. My first parameter value eps = 0.08, and the second parameter value eps = 0.1. Although the change cannot be obviously detected by the naked eye, we can compare it according to the probability value of the label 'bird'. We can find that the probability value of 'bird' becomes smaller, which means that our attack intensity on this picture has increased."
   ]
  }
 ],
 "metadata": {
  "colab": {
   "authorship_tag": "ABX9TyOiGAEyrLouABUtwQJCuSVY",
   "collapsed_sections": [],
   "mount_file_id": "1RRQ5TRoQBriWBEcJUVwxfoEuXjE-HaL7",
   "name": "EE5934_Project1.ipynb",
   "provenance": [],
   "toc_visible": true
  },
  "kernelspec": {
   "display_name": "Python 3 (ipykernel)",
   "language": "python",
   "name": "python3"
  },
  "language_info": {
   "codemirror_mode": {
    "name": "ipython",
    "version": 3
   },
   "file_extension": ".py",
   "mimetype": "text/x-python",
   "name": "python",
   "nbconvert_exporter": "python",
   "pygments_lexer": "ipython3",
   "version": "3.9.7"
  }
 },
 "nbformat": 4,
 "nbformat_minor": 1
}
